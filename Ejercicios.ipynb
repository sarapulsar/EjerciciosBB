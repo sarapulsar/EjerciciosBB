{
 "cells": [
  {
   "attachments": {},
   "cell_type": "markdown",
   "metadata": {},
   "source": [
    "# Ejercicio 1"
   ]
  },
  {
   "cell_type": "code",
   "execution_count": 15,
   "metadata": {},
   "outputs": [],
   "source": [
    "n = [1, 2, 6, 26]\n",
    "s = 2\n",
    "\n",
    "def remover_elemento(lista, elemento):\n",
    "    if elemento in lista:\n",
    "        lista.remove(elemento)\n",
    "    return lista\n",
    "\n",
    "def eliminar(n, s):\n",
    "    resultado = []\n",
    "    if s in n:\n",
    "        n= remover_elemento(n, s)\n",
    "    for i in n:\n",
    "        if str(s) in str(i):\n",
    "            i = int(str(i).replace(str(s), \"\"))\n",
    "            resultado.append(i)\n",
    "        else:\n",
    "            resultado.append(i)\n",
    "    \n",
    "    frecuencia = [0] * (max(resultado) + 1)\n",
    "    for i in resultado:\n",
    "        frecuencia[i] += 1\n",
    "\n",
    "    lista_ordenada = []\n",
    "    for i in range(len(frecuencia) - 1, -1, -1):\n",
    "        lista_ordenada.extend([i] * frecuencia[i])\n",
    "    return print(f\"{s} -> {lista_ordenada}\")"
   ]
  },
  {
   "cell_type": "code",
   "execution_count": 16,
   "metadata": {},
   "outputs": [
    {
     "name": "stdout",
     "output_type": "stream",
     "text": [
      "2 -> [6, 6, 1]\n"
     ]
    }
   ],
   "source": [
    "eliminar(n, s)"
   ]
  },
  {
   "attachments": {},
   "cell_type": "markdown",
   "metadata": {},
   "source": [
    "## Ejercicio 2"
   ]
  },
  {
   "cell_type": "code",
   "execution_count": 30,
   "metadata": {},
   "outputs": [],
   "source": [
    "def ordenadoasc(arr,s):\n",
    "    ss = int(str(s)*2)\n",
    "    n = len(arr)\n",
    "    resultado = [0]*n\n",
    "    izquierda = 0\n",
    "    derecha = n-1\n",
    "    posicion = n-1\n",
    "\n",
    "    while izquierda <= derecha:\n",
    "\n",
    "        izquierda_cuadrado = arr[izquierda]*arr[izquierda]\n",
    "        derecha_cuadrado = arr[derecha]*arr[derecha]\n",
    "        \n",
    "        if izquierda_cuadrado > derecha_cuadrado:\n",
    "        \n",
    "            resultado[posicion] = izquierda_cuadrado\n",
    "            izquierda += 1\n",
    "        \n",
    "        else: \n",
    "            resultado[posicion]=derecha_cuadrado\n",
    "            derecha -= 1\n",
    "        posicion -= 1\n",
    "\n",
    "        resultado = [x for x in resultado if 0 <= x <= ss]\n",
    "    \n",
    "    return print(f'{{\"array\": {arr}}} -> {resultado}')\n",
    "\n"
   ]
  },
  {
   "cell_type": "code",
   "execution_count": 34,
   "metadata": {},
   "outputs": [
    {
     "name": "stdout",
     "output_type": "stream",
     "text": [
      "{\"array\": [1, 2, 3, 4, 5, 6]} -> [1, 4, 9, 16]\n"
     ]
    }
   ],
   "source": [
    "arr = [1,2,3,4,5,6]\n",
    "s=2\n",
    "resultado = ordenadoasc(arr, s)\n"
   ]
  },
  {
   "attachments": {},
   "cell_type": "markdown",
   "metadata": {},
   "source": [
    "## Ejercicio 3"
   ]
  },
  {
   "cell_type": "code",
   "execution_count": 104,
   "metadata": {},
   "outputs": [],
   "source": [
    "def min_suma_monedas(array):\n",
    "    array.sort()\n",
    "    cambio = 0\n",
    "    for arr in array: \n",
    "        if arr > cambio+1:\n",
    "            return cambio +1 \n",
    "        cambio += arr\n",
    "            \n",
    "    return cambio"
   ]
  },
  {
   "cell_type": "code",
   "execution_count": 108,
   "metadata": {},
   "outputs": [
    {
     "name": "stdout",
     "output_type": "stream",
     "text": [
      "{\"coins\":[1, 2, 4]} -> 7\n",
      "{\"coins\":[5, 7, 1, 1, 2, 3, 22]} -> 20\n",
      "{\"coins\":[1, 1, 1, 1, 1]} -> 5\n",
      "{\"coins\":[1, 5, 1, 1, 1, 10, 15, 20, 100]} -> 55\n"
     ]
    }
   ],
   "source": [
    "array = [1,2,4]\n",
    "array2 = [5, 7, 1, 1, 2, 3, 22]\n",
    "array3 = [1, 1, 1, 1, 1]\n",
    "array4 = [1, 5, 1, 1, 1, 10, 15, 20, 100]\n",
    "print(f'{{\"coins\":{array}}} -> {min_suma_monedas(array)}')\n",
    "print(f'{{\"coins\":{array2}}} -> {min_suma_monedas(array2)}')\n",
    "print(f'{{\"coins\":{array3}}} -> {min_suma_monedas(array3)}')\n",
    "print(f'{{\"coins\":{array4}}} -> {min_suma_monedas(array4)}')"
   ]
  }
 ],
 "metadata": {
  "kernelspec": {
   "display_name": "Python 3",
   "language": "python",
   "name": "python3"
  },
  "language_info": {
   "codemirror_mode": {
    "name": "ipython",
    "version": 3
   },
   "file_extension": ".py",
   "mimetype": "text/x-python",
   "name": "python",
   "nbconvert_exporter": "python",
   "pygments_lexer": "ipython3",
   "version": "3.10.4"
  },
  "orig_nbformat": 4
 },
 "nbformat": 4,
 "nbformat_minor": 2
}
